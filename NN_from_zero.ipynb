{
  "nbformat": 4,
  "nbformat_minor": 0,
  "metadata": {
    "colab": {
      "name": "NN_from_zero",
      "version": "0.3.2",
      "provenance": [],
      "collapsed_sections": [],
      "include_colab_link": true
    },
    "kernelspec": {
      "name": "python3",
      "display_name": "Python 3"
    }
  },
  "cells": [
    {
      "cell_type": "markdown",
      "metadata": {
        "id": "view-in-github",
        "colab_type": "text"
      },
      "source": [
        "<a href=\"https://colab.research.google.com/github/p4guiler4/NN_from_zero/blob/master/NN_from_zero.ipynb\" target=\"_parent\"><img src=\"https://colab.research.google.com/assets/colab-badge.svg\" alt=\"Open In Colab\"/></a>"
      ]
    },
    {
      "cell_type": "code",
      "metadata": {
        "id": "Y_ZlfDsHftJM",
        "colab_type": "code",
        "colab": {}
      },
      "source": [
        "import numpy as np\n",
        "import scipy as sc\n",
        "import matplotlib.pyplot as plt\n",
        "from sklearn .datasets import make_circles"
      ],
      "execution_count": 0,
      "outputs": []
    },
    {
      "cell_type": "code",
      "metadata": {
        "id": "QhQGEWRLr5yB",
        "colab_type": "code",
        "outputId": "fd26e416-7e3f-4b26-f758-f474bb039295",
        "colab": {
          "base_uri": "https://localhost:8080/",
          "height": 269
        }
      },
      "source": [
        "n = 500\n",
        "p = 2\n",
        "\n",
        "X,Y = make_circles(n_samples=n, factor=0.5, noise=0.05)\n",
        "plt.scatter(X[Y==0,0], X[Y==0,1], c=\"skyblue\")\n",
        "plt.scatter(X[Y==1,0], X[Y==1,1], c=\"salmon\")\n",
        "plt.axis(\"equal\")\n",
        "plt.show()"
      ],
      "execution_count": 0,
      "outputs": [
        {
          "output_type": "display_data",
          "data": {
            "image/png": "[encoded data removed]",
            "text/plain": [
              "<Figure size 432x288 with 1 Axes>"
            ]
          },
          "metadata": {
            "tags": []
          }
        }
      ]
    },
    {
      "cell_type": "code",
      "metadata": {
        "id": "aM2KrgE3OkPH",
        "colab_type": "code",
        "colab": {}
      },
      "source": [
        "# CLASE DE LA CAPA DE LA RED\n",
        "\n",
        "class neural_layer():\n",
        "  def __init__(self, n_conn, n_neur, act_f):\n",
        "    self.act_f = act_f\n",
        "    self.b = np.random.rand(1, n_neur)*2-1\n",
        "    self.W=np.random.rand(n_conn,n_neur)*2-1\n",
        "     "
      ],
      "execution_count": 0,
      "outputs": []
    },
    {
      "cell_type": "code",
      "metadata": {
        "id": "_66SBP6TQakB",
        "colab_type": "code",
        "outputId": "2c70ebc5-d1d8-4fda-aca3-712b5466dbdc",
        "colab": {
          "base_uri": "https://localhost:8080/",
          "height": 286
        }
      },
      "source": [
        "# FUNCIONES DE ACTIVACIÓN\n",
        "\n",
        "sigm = (lambda x: 1/(1+np.e**(-x)),\n",
        "        lambda x: x*(1-x))\n",
        "\n",
        "relu = lambda x: np.maximum(0,x)\n",
        "\n",
        "_x=np.linspace(-5,5,100)\n",
        "plt.plot(_x,sigm[0](_x))"
      ],
      "execution_count": 0,
      "outputs": [
        {
          "output_type": "execute_result",
          "data": {
            "text/plain": [
              "[<matplotlib.lines.Line2D at 0x7f53f05c5b38>]"
            ]
          },
          "metadata": {
            "tags": []
          },
          "execution_count": 26
        },
        {
          "output_type": "display_data",
          "data": {
            "image/png": "[encoded data removed]",
            "text/plain": [
              "<Figure size 432x288 with 1 Axes>"
            ]
          },
          "metadata": {
            "tags": []
          }
        }
      ]
    },
    {
      "cell_type": "code",
      "metadata": {
        "id": "MKVN5SNLRG-T",
        "colab_type": "code",
        "colab": {}
      },
      "source": [
        "l0 = neural_layer(p,4,sigm)\n",
        "l1 = neural_layer(4,8,sigm)\n",
        "\n",
        "topology = [p, 4, 8, 16, 8, 4, 1]\n"
      ],
      "execution_count": 0,
      "outputs": []
    },
    {
      "cell_type": "code",
      "metadata": {
        "id": "Wd87jsfoSmaS",
        "colab_type": "code",
        "colab": {}
      },
      "source": [
        "def create_nn(topology, act_f):\n",
        "  \n",
        "  nn = []\n",
        "  \n",
        "  for l, layer in enumerate(topology[:-1]):\n",
        "    \n",
        "    nn.append(neural_layer(topology[l],topology[l+1], act_f))\n",
        "    \n",
        "  return nn"
      ],
      "execution_count": 0,
      "outputs": []
    },
    {
      "cell_type": "code",
      "metadata": {
        "id": "oowS113ASxF9",
        "colab_type": "code",
        "outputId": "570911f8-4735-45ae-d135-4e104488a7db",
        "colab": {
          "base_uri": "https://localhost:8080/",
          "height": 119
        }
      },
      "source": [
        "create_nn(topology, sigm)"
      ],
      "execution_count": 0,
      "outputs": [
        {
          "output_type": "execute_result",
          "data": {
            "text/plain": [
              "[<__main__.neural_layer at 0x7f53f05a7860>,\n",
              " <__main__.neural_layer at 0x7f53f05d2e80>,\n",
              " <__main__.neural_layer at 0x7f53f05d22e8>,\n",
              " <__main__.neural_layer at 0x7f53f05a7898>,\n",
              " <__main__.neural_layer at 0x7f53f05a78d0>,\n",
              " <__main__.neural_layer at 0x7f53f05a7908>]"
            ]
          },
          "metadata": {
            "tags": []
          },
          "execution_count": 40
        }
      ]
    },
    {
      "cell_type": "code",
      "metadata": {
        "id": "0LFwBEjXS1XK",
        "colab_type": "code",
        "colab": {}
      },
      "source": [
        "def train():"
      ],
      "execution_count": 0,
      "outputs": []
    }
  ]
}